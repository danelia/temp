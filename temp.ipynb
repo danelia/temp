{
 "cells": [
  {
   "cell_type": "code",
   "execution_count": 1,
   "metadata": {},
   "outputs": [],
   "source": [
    "import numpy as np\n",
    "import pandas as pd\n",
    "\n",
    "import matplotlib.pyplot as plt\n",
    "import seaborn as sns\n",
    "\n",
    "import math \n",
    "import random\n",
    "\n",
    "import time\n",
    "import string\n",
    "\n",
    "from random_username.generate import generate_username\n",
    "from faker import Faker\n",
    "\n",
    "from sklearn.preprocessing import StandardScaler\n",
    "from sklearn.cluster import KMeans"
   ]
  },
  {
   "cell_type": "code",
   "execution_count": 2,
   "metadata": {},
   "outputs": [],
   "source": [
    "# row count in data\n",
    "row_c = 5000\n",
    "\n",
    "fake = Faker()"
   ]
  },
  {
   "cell_type": "code",
   "execution_count": 3,
   "metadata": {},
   "outputs": [],
   "source": [
    "# functions for generating random date\n",
    "\n",
    "def str_time_prop(start, end, format, prop):\n",
    "    stime = time.mktime(time.strptime(start, format))\n",
    "    etime = time.mktime(time.strptime(end, format))\n",
    "\n",
    "    ptime = stime + prop * (etime - stime)\n",
    "\n",
    "    return time.strftime(format, time.localtime(ptime))\n",
    "\n",
    "\n",
    "def random_date(start, end, prop):\n",
    "    return str_time_prop(start, end, '%m/%d/%Y', prop)"
   ]
  },
  {
   "cell_type": "code",
   "execution_count": 4,
   "metadata": {},
   "outputs": [],
   "source": [
    "# fullname\n",
    "fullname_col = [fake.name() for _ in range(row_c)]\n",
    "\n",
    "# address\n",
    "address_col = [fake.address() for _ in range(row_c)]\n",
    "\n",
    "# gender 0 -> female, 1 -> male\n",
    "gender_col = np.random.randint(0, 2, row_c)\n",
    "\n",
    "# expertize 0 -> software engineer, 1 -> graphics designer, 2 -> other\n",
    "expertize_col = np.random.randint(0, 3, row_c)\n",
    "\n",
    "# username\n",
    "username_col = generate_username(row_c)\n",
    "\n",
    "# password\n",
    "password_col = [''.join(random.choice(string.ascii_lowercase) for _ in range(np.random.randint(8, 15))) for __ in range(row_c)]\n",
    "\n",
    "# status 0 -> unverified, 1 -> verified \n",
    "status_col = np.random.randint(0, 2, row_c)\n",
    "\n",
    "# date\n",
    "registrationTime_col = [random_date(\"9/1/2019\", \"10/30/2019\", random.random()) for _ in range(row_c)]"
   ]
  },
  {
   "cell_type": "code",
   "execution_count": 5,
   "metadata": {},
   "outputs": [],
   "source": [
    "data = pd.DataFrame()\n",
    "\n",
    "# defining the columns of the dataset\n",
    "data['fullname'] = fullname_col\n",
    "data['address'] = address_col\n",
    "data['gender'] = gender_col\n",
    "data['expertize'] = expertize_col\n",
    "data['username'] = username_col\n",
    "data['password'] = password_col\n",
    "data['status'] = status_col\n",
    "data['registrationTime'] = registrationTime_col\n",
    "\n",
    "data.reset_index(inplace=True)\n",
    "data.rename(columns={\"index\": \"userId\"}, inplace=True)\n",
    "\n",
    "dataset1 = data[['userId', 'fullname', 'address', 'gender', 'expertize']]\n",
    "dataset2 = data[['userId', 'username', 'password', 'status', 'registrationTime']]"
   ]
  },
  {
   "cell_type": "code",
   "execution_count": 6,
   "metadata": {},
   "outputs": [],
   "source": [
    "# save to disk\n",
    "dataset1.to_csv('dataset1.csv', index=False)\n",
    "dataset2.to_csv('dataset2.csv', index=False)"
   ]
  },
  {
   "cell_type": "markdown",
   "metadata": {},
   "source": [
    "### Visualizing gender on verified users"
   ]
  },
  {
   "cell_type": "code",
   "execution_count": 7,
   "metadata": {},
   "outputs": [
    {
     "data": {
      "image/png": "[encoded data removed]",
      "text/plain": [
       "<Figure size 720x432 with 1 Axes>"
      ]
     },
     "metadata": {
      "needs_background": "light"
     },
     "output_type": "display_data"
    }
   ],
   "source": [
    "a = data[data['status'] == 1][['gender', 'expertize']]\n",
    "a['expertize'] = a['expertize'].apply(lambda x : {0 : 'Software Engineer', 1 : 'Graphics Designer', 2 : 'Other'}[x])\n",
    "a['gender'] = a['gender'].apply(lambda x : {0 : 'Female', 1 : 'Male'}[x])\n",
    "\n",
    "prop_df = a['gender'].groupby(a['expertize']).value_counts(normalize=True).unstack()\n",
    "\n",
    "ax = prop_df.plot(kind='bar', figsize=(10,6))\n",
    "\n",
    "for p in ax.patches:\n",
    "    ax.annotate(str(np.round(p.get_height() * 100, 1)) + '%', (p.get_x() * 1.005, p.get_height() * 1.005))"
   ]
  },
  {
   "cell_type": "markdown",
   "metadata": {},
   "source": [
    "### Visualizing daily basis increment on Male(Software engineer) and Female(Graphics designer) in Octomber"
   ]
  },
  {
   "cell_type": "code",
   "execution_count": 8,
   "metadata": {},
   "outputs": [
    {
     "data": {
      "text/plain": [
       "<matplotlib.axes._subplots.AxesSubplot at 0x7f70154622b0>"
      ]
     },
     "execution_count": 8,
     "metadata": {},
     "output_type": "execute_result"
    },
    {
     "data": {
      "image/png": "[encoded data removed]",
      "text/plain": [
       "<Figure size 720x432 with 1 Axes>"
      ]
     },
     "metadata": {
      "needs_background": "light"
     },
     "output_type": "display_data"
    }
   ],
   "source": [
    "data['registrationTime'] = pd.to_datetime(data['registrationTime'])\n",
    "\n",
    "a = data.loc[(data['registrationTime'] >= '2019-10-1') & (data['registrationTime'] <= '2019-10-30')]\n",
    "a = a[((a['gender'] == 1) & (a['expertize'] == 0)) | ((a['gender'] == 0) & (a['expertize'] == 1))][['gender', 'registrationTime']]\n",
    "a['registrationTime'] = a['registrationTime'].apply(lambda x : x.day)\n",
    "a['gender'] = a['gender'].apply(lambda x : {0 : 'Female', 1 : 'Male'}[x])\n",
    "\n",
    "fig, ax = plt.subplots(figsize=(10, 6))\n",
    "sns.countplot(ax=ax, x='registrationTime', hue='gender', data=a)"
   ]
  },
  {
   "cell_type": "markdown",
   "metadata": {},
   "source": [
    "### K - means clustering"
   ]
  },
  {
   "cell_type": "code",
   "execution_count": 9,
   "metadata": {},
   "outputs": [],
   "source": [
    "X = data[['gender', 'expertize', 'status']]"
   ]
  },
  {
   "cell_type": "code",
   "execution_count": 10,
   "metadata": {},
   "outputs": [],
   "source": [
    "# standardizing data\n",
    "scaler = StandardScaler()\n",
    "\n",
    "X = scaler.fit_transform(X)"
   ]
  },
  {
   "cell_type": "code",
   "execution_count": 11,
   "metadata": {},
   "outputs": [
    {
     "data": {
      "text/plain": [
       "[<matplotlib.lines.Line2D at 0x7f70152d5208>]"
      ]
     },
     "execution_count": 11,
     "metadata": {},
     "output_type": "execute_result"
    },
    {
     "data": {
      "image/png": "[encoded data removed]",
      "text/plain": [
       "<Figure size 432x288 with 1 Axes>"
      ]
     },
     "metadata": {
      "needs_background": "light"
     },
     "output_type": "display_data"
    }
   ],
   "source": [
    "# find optimal cluster count using elbow method\n",
    "inertias = []\n",
    "for i in range(1, 12):\n",
    "    kmeans = KMeans(n_clusters=i, random_state=0).fit(X)\n",
    "    inertias.append(kmeans.inertia_)\n",
    "\n",
    "plt.plot(range(1, 12), inertias)"
   ]
  },
  {
   "cell_type": "code",
   "execution_count": 12,
   "metadata": {},
   "outputs": [],
   "source": [
    "# we can see above that 8 would be optimal\n",
    "\n",
    "kmeans = KMeans(n_clusters=8, random_state=0).fit(X)\n",
    "\n",
    "data['cluster'] = kmeans.labels_"
   ]
  },
  {
   "cell_type": "code",
   "execution_count": null,
   "metadata": {},
   "outputs": [],
   "source": []
  }
 ],
 "metadata": {
  "kernelspec": {
   "display_name": "Python 3",
   "language": "python",
   "name": "python3"
  },
  "language_info": {
   "codemirror_mode": {
    "name": "ipython",
    "version": 3
   },
   "file_extension": ".py",
   "mimetype": "text/x-python",
   "name": "python",
   "nbconvert_exporter": "python",
   "pygments_lexer": "ipython3",
   "version": "3.6.8"
  }
 },
 "nbformat": 4,
 "nbformat_minor": 2
}
